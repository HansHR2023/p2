{
 "cells": [
  {
   "cell_type": "code",
   "execution_count": null,
   "id": "027257df-4588-4bcf-befa-347556103bfe",
   "metadata": {},
   "outputs": [],
   "source": [
    "\n"
   ]
  },
  {
   "cell_type": "code",
   "execution_count": 1,
   "id": "d0b863bb-33f7-414b-8c5a-fd4801b6de7e",
   "metadata": {},
   "outputs": [],
   "source": [
    "# import pandas as pd\n",
    "import torch\n",
    "# from torch import nn\n",
    "# from torch import optim\n",
    "# from torch.utils.data import Dataset, DataLoader\n",
    "\n",
    "# import matplotlib.pyplot as plt"
   ]
  },
  {
   "cell_type": "code",
   "execution_count": 2,
   "id": "cacaa7a8-7733-4402-8085-8ac032461d01",
   "metadata": {},
   "outputs": [],
   "source": [
    "\n",
    "# model = torch.load('../../../../notebooks/data/sonar_model_weights_2.pth')\n",
    "model = torch.load('../../../../notebooks/data/lidar_model_1.pth')\n"
   ]
  },
  {
   "cell_type": "code",
   "execution_count": 23,
   "id": "fbf734d6-ea08-4875-b01a-29d97afc098b",
   "metadata": {},
   "outputs": [],
   "source": [
    "import pickle\n",
    "pickled_model = pickle.load(open('../../../../notebooks/data/sonar_model.pkl', 'rb'))"
   ]
  },
  {
   "cell_type": "code",
   "execution_count": 3,
   "id": "3bd5412c-6186-42f1-9dfc-1cc02e64505d",
   "metadata": {},
   "outputs": [
    {
     "data": {
      "text/plain": [
       "Sequential(\n",
       "  (0): Linear(in_features=16, out_features=64, bias=True)\n",
       "  (1): ReLU()\n",
       "  (2): Linear(in_features=64, out_features=16, bias=True)\n",
       "  (3): SiLU()\n",
       "  (4): Linear(in_features=16, out_features=1, bias=True)\n",
       ")"
      ]
     },
     "execution_count": 3,
     "metadata": {},
     "output_type": "execute_result"
    }
   ],
   "source": [
    "model.eval()"
   ]
  },
  {
   "cell_type": "code",
   "execution_count": 5,
   "id": "38172c9f-5d34-4812-ab1d-28bc1ff02de9",
   "metadata": {},
   "outputs": [],
   "source": [
    "# model(torch.tensor([0.9781, 1.1411, 2.2500]))"
   ]
  },
  {
   "cell_type": "code",
   "execution_count": null,
   "id": "e93063cd-9199-4bc6-a6bf-74e1dc49bfdb",
   "metadata": {},
   "outputs": [],
   "source": []
  },
  {
   "cell_type": "code",
   "execution_count": null,
   "id": "6f4575d1-46da-483c-b0fe-aea798e04990",
   "metadata": {},
   "outputs": [],
   "source": []
  }
 ],
 "metadata": {
  "kernelspec": {
   "display_name": "Python 3 (ipykernel)",
   "language": "python",
   "name": "python3"
  },
  "language_info": {
   "codemirror_mode": {
    "name": "ipython",
    "version": 3
   },
   "file_extension": ".py",
   "mimetype": "text/x-python",
   "name": "python",
   "nbconvert_exporter": "python",
   "pygments_lexer": "ipython3",
   "version": "3.10.10"
  }
 },
 "nbformat": 4,
 "nbformat_minor": 5
}
