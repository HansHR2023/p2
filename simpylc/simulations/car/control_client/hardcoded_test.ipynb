{
 "cells": [
  {
   "cell_type": "code",
   "execution_count": null,
   "id": "027257df-4588-4bcf-befa-347556103bfe",
   "metadata": {},
   "outputs": [],
   "source": [
    "\n"
   ]
  },
  {
   "cell_type": "code",
   "execution_count": 1,
   "id": "d0b863bb-33f7-414b-8c5a-fd4801b6de7e",
   "metadata": {},
   "outputs": [],
   "source": [
    "# import pandas as pd\n",
    "import torch\n",
    "# from torch import nn\n",
    "# from torch import optim\n",
    "# from torch.utils.data import Dataset, DataLoader\n",
    "\n",
    "# import matplotlib.pyplot as plt"
   ]
  },
  {
   "cell_type": "code",
   "execution_count": 2,
   "id": "cacaa7a8-7733-4402-8085-8ac032461d01",
   "metadata": {},
   "outputs": [],
   "source": [
    "\n",
    "# model = torch.load('../../../../notebooks/data/sonar_model_weights_2.pth')\n",
    "model = torch.load('../../../../notebooks/data/lidar_model_1.pth')\n"
   ]
  },
  {
   "cell_type": "code",
   "execution_count": 2,
   "id": "fbf734d6-ea08-4875-b01a-29d97afc098b",
   "metadata": {},
   "outputs": [],
   "source": [
    "import pickle\n",
    "pickled_model = pickle.load(open('../../../../notebooks/data/lidar_2.pkl', 'rb'))"
   ]
  },
  {
   "cell_type": "code",
   "execution_count": 4,
   "id": "3bd5412c-6186-42f1-9dfc-1cc02e64505d",
   "metadata": {},
   "outputs": [
    {
     "data": {
      "text/plain": [
       "Sequential(\n",
       "  (0): Linear(in_features=16, out_features=64, bias=True)\n",
       "  (1): ReLU()\n",
       "  (2): Linear(in_features=64, out_features=32, bias=True)\n",
       "  (3): ReLU()\n",
       "  (4): Linear(in_features=32, out_features=16, bias=True)\n",
       "  (5): ReLU()\n",
       "  (6): Linear(in_features=16, out_features=8, bias=True)\n",
       "  (7): ReLU()\n",
       "  (8): Linear(in_features=8, out_features=1, bias=True)\n",
       ")"
      ]
     },
     "execution_count": 4,
     "metadata": {},
     "output_type": "execute_result"
    }
   ],
   "source": [
    "pickled_model.eval()"
   ]
  },
  {
   "cell_type": "code",
   "execution_count": 5,
   "id": "38172c9f-5d34-4812-ab1d-28bc1ff02de9",
   "metadata": {},
   "outputs": [],
   "source": [
    "# model(torch.tensor([0.9781, 1.1411, 2.2500]))"
   ]
  },
  {
   "cell_type": "code",
   "execution_count": null,
   "id": "e93063cd-9199-4bc6-a6bf-74e1dc49bfdb",
   "metadata": {},
   "outputs": [],
   "source": []
  },
  {
   "cell_type": "markdown",
   "id": "ab898200-c402-46b0-9cde-56379b7cbedc",
   "metadata": {},
   "source": [
    "Part 2: reverse sonar.track into sonar_reverse.track"
   ]
  },
  {
   "cell_type": "code",
   "execution_count": 1,
   "id": "a9aa853d-4c73-4e88-a74c-ce0cc3c97a17",
   "metadata": {},
   "outputs": [],
   "source": [
    "import pandas as pd"
   ]
  },
  {
   "cell_type": "code",
   "execution_count": 2,
   "id": "8c98e703-4e19-4df6-b8d3-05f04f6dd5be",
   "metadata": {},
   "outputs": [],
   "source": [
    "track = pd.read_csv('../sonar_reverse.track', delim_whitespace=True,\n",
    "                 header=None, index_col=False)"
   ]
  },
  {
   "cell_type": "code",
   "execution_count": 5,
   "id": "2d4b28b9-d812-416a-b084-f5aff9dba22e",
   "metadata": {},
   "outputs": [],
   "source": [
    "track = track.iloc[::-1]"
   ]
  },
  {
   "cell_type": "code",
   "execution_count": 24,
   "id": "5ea547be-9ce3-4c95-a4cb-608b6b572b42",
   "metadata": {},
   "outputs": [],
   "source": [
    "# track['combined'] = track.iloc[:,0:31].apply(lambda row: '_'.join(row.values.astype(str)), axis=1)"
   ]
  },
  {
   "cell_type": "code",
   "execution_count": 25,
   "id": "f52c4568-c0c6-4c5b-b5af-cc5fe7a11dfc",
   "metadata": {},
   "outputs": [],
   "source": [
    "# track.to_csv('../sonar_reverse_2.track', header=None, index=None, sep='\\t')"
   ]
  },
  {
   "cell_type": "code",
   "execution_count": 27,
   "id": "c0109793-d671-4816-92f6-bd52cf14f634",
   "metadata": {},
   "outputs": [],
   "source": [
    "with open('../sonar_reverse_2.track', 'w') as fd:\n",
    "    for i in range(len(track)):\n",
    "        print(track.iloc[i,:], sep='', file=fd)\n"
   ]
  },
  {
   "cell_type": "code",
   "execution_count": null,
   "id": "7531c247-db02-4784-ba5b-4255a8d71490",
   "metadata": {},
   "outputs": [],
   "source": []
  }
 ],
 "metadata": {
  "kernelspec": {
   "display_name": "Python 3 (ipykernel)",
   "language": "python",
   "name": "python3"
  },
  "language_info": {
   "codemirror_mode": {
    "name": "ipython",
    "version": 3
   },
   "file_extension": ".py",
   "mimetype": "text/x-python",
   "name": "python",
   "nbconvert_exporter": "python",
   "pygments_lexer": "ipython3",
   "version": "3.10.10"
  }
 },
 "nbformat": 4,
 "nbformat_minor": 5
}
