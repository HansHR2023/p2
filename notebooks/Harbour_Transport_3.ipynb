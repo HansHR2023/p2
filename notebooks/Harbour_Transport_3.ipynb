{
 "cells": [
  {
   "cell_type": "markdown",
   "id": "14985755-e64b-4635-8edf-d8841d0ee4b6",
   "metadata": {},
   "source": [
    "<h1>PyTorch Neural Net to train Car</h1>\n",
    "\n",
    "This notebook is the start of project 2, using the example of PyTorch tutorials from PyTorch.org. In this notebook we switch to the use of a DataLoader."
   ]
  },
  {
   "cell_type": "code",
   "execution_count": 1,
   "id": "3192d15f-f3c0-41cb-8103-45086b504856",
   "metadata": {},
   "outputs": [],
   "source": [
    "import pandas as pd\n",
    "import torch\n",
    "from torch import nn\n",
    "from torch import optim\n",
    "from torch.utils.data import Dataset, DataLoader\n",
    "\n",
    "import matplotlib.pyplot as plt"
   ]
  },
  {
   "cell_type": "code",
   "execution_count": 2,
   "id": "aeca8a04-ab71-42a4-9673-c81b2bffff91",
   "metadata": {},
   "outputs": [
    {
     "name": "stdout",
     "output_type": "stream",
     "text": [
      "cuda\n"
     ]
    }
   ],
   "source": [
    "device = 'cuda' if torch.cuda.is_available() else 'cpu'\n",
    "print(device)"
   ]
  },
  {
   "cell_type": "code",
   "execution_count": 3,
   "id": "967de451-c3d4-42f4-98ae-3739200121dd",
   "metadata": {},
   "outputs": [],
   "source": [
    "# We move our tensor to the GPU if available\n",
    "\n",
    "# if torch.cuda.is_available():\n",
    "#    tensor = tensor.to(\"cuda\")"
   ]
  },
  {
   "cell_type": "code",
   "execution_count": 4,
   "id": "e99eda3d-cb8e-42f2-b9a3-0dda368d74e4",
   "metadata": {},
   "outputs": [],
   "source": [
    "# import data in pandas\n",
    "# df_train = pd.read_csv('../simpylc/sonar_1.samples', delim_whitespace=True,\n",
    "#                  header=None, index_col=False)\n",
    "\n",
    "df_train = pd.read_csv('../simpylc/lidar_1.samples', delim_whitespace=True,\n",
    "                 header=None, index_col=False)"
   ]
  },
  {
   "cell_type": "code",
   "execution_count": 5,
   "id": "8c811a6c-ce9c-4043-96c3-95036b42925c",
   "metadata": {},
   "outputs": [
    {
     "name": "stdout",
     "output_type": "stream",
     "text": [
      "<class 'pandas.core.frame.DataFrame'>\n",
      "RangeIndex: 1528 entries, 0 to 1527\n",
      "Data columns (total 17 columns):\n",
      " #   Column  Non-Null Count  Dtype  \n",
      "---  ------  --------------  -----  \n",
      " 0   0       1528 non-null   float64\n",
      " 1   1       1528 non-null   float64\n",
      " 2   2       1528 non-null   float64\n",
      " 3   3       1528 non-null   float64\n",
      " 4   4       1528 non-null   float64\n",
      " 5   5       1528 non-null   float64\n",
      " 6   6       1528 non-null   float64\n",
      " 7   7       1528 non-null   float64\n",
      " 8   8       1528 non-null   float64\n",
      " 9   9       1528 non-null   float64\n",
      " 10  10      1528 non-null   float64\n",
      " 11  11      1528 non-null   float64\n",
      " 12  12      1528 non-null   float64\n",
      " 13  13      1528 non-null   float64\n",
      " 14  14      1528 non-null   float64\n",
      " 15  15      1528 non-null   float64\n",
      " 16  16      1528 non-null   float64\n",
      "dtypes: float64(17)\n",
      "memory usage: 203.1 KB\n"
     ]
    }
   ],
   "source": [
    "# check data type -> float, not object\n",
    "df_train.info()"
   ]
  },
  {
   "cell_type": "code",
   "execution_count": 6,
   "id": "871ec6ba-8c3c-43bf-b37e-bae079f5951f",
   "metadata": {},
   "outputs": [
    {
     "data": {
      "text/html": [
       "<div>\n",
       "<style scoped>\n",
       "    .dataframe tbody tr th:only-of-type {\n",
       "        vertical-align: middle;\n",
       "    }\n",
       "\n",
       "    .dataframe tbody tr th {\n",
       "        vertical-align: top;\n",
       "    }\n",
       "\n",
       "    .dataframe thead th {\n",
       "        text-align: right;\n",
       "    }\n",
       "</style>\n",
       "<table border=\"1\" class=\"dataframe\">\n",
       "  <thead>\n",
       "    <tr style=\"text-align: right;\">\n",
       "      <th></th>\n",
       "      <th>0</th>\n",
       "      <th>1</th>\n",
       "      <th>2</th>\n",
       "      <th>3</th>\n",
       "      <th>4</th>\n",
       "      <th>5</th>\n",
       "      <th>6</th>\n",
       "      <th>7</th>\n",
       "      <th>8</th>\n",
       "      <th>9</th>\n",
       "      <th>10</th>\n",
       "      <th>11</th>\n",
       "      <th>12</th>\n",
       "      <th>13</th>\n",
       "      <th>14</th>\n",
       "      <th>15</th>\n",
       "      <th>16</th>\n",
       "    </tr>\n",
       "  </thead>\n",
       "  <tbody>\n",
       "    <tr>\n",
       "      <th>0</th>\n",
       "      <td>7.4097</td>\n",
       "      <td>6.8168</td>\n",
       "      <td>8.3575</td>\n",
       "      <td>10.2320</td>\n",
       "      <td>12.9046</td>\n",
       "      <td>11.2148</td>\n",
       "      <td>5.7206</td>\n",
       "      <td>5.8557</td>\n",
       "      <td>20.0</td>\n",
       "      <td>20.0</td>\n",
       "      <td>5.2280</td>\n",
       "      <td>2.7302</td>\n",
       "      <td>4.2801</td>\n",
       "      <td>5.4935</td>\n",
       "      <td>1.4185</td>\n",
       "      <td>6.4051</td>\n",
       "      <td>-33.0</td>\n",
       "    </tr>\n",
       "    <tr>\n",
       "      <th>1</th>\n",
       "      <td>7.4097</td>\n",
       "      <td>6.8168</td>\n",
       "      <td>8.3575</td>\n",
       "      <td>10.2320</td>\n",
       "      <td>12.9046</td>\n",
       "      <td>11.2148</td>\n",
       "      <td>5.7206</td>\n",
       "      <td>5.8557</td>\n",
       "      <td>20.0</td>\n",
       "      <td>20.0</td>\n",
       "      <td>5.2280</td>\n",
       "      <td>2.7302</td>\n",
       "      <td>4.2801</td>\n",
       "      <td>5.4935</td>\n",
       "      <td>1.4185</td>\n",
       "      <td>6.4051</td>\n",
       "      <td>-33.0</td>\n",
       "    </tr>\n",
       "    <tr>\n",
       "      <th>2</th>\n",
       "      <td>7.4092</td>\n",
       "      <td>6.8163</td>\n",
       "      <td>8.3570</td>\n",
       "      <td>10.2316</td>\n",
       "      <td>12.9042</td>\n",
       "      <td>11.2145</td>\n",
       "      <td>5.7204</td>\n",
       "      <td>5.8556</td>\n",
       "      <td>20.0</td>\n",
       "      <td>20.0</td>\n",
       "      <td>5.2275</td>\n",
       "      <td>2.7297</td>\n",
       "      <td>4.2796</td>\n",
       "      <td>5.4929</td>\n",
       "      <td>1.4179</td>\n",
       "      <td>6.4045</td>\n",
       "      <td>-32.5</td>\n",
       "    </tr>\n",
       "    <tr>\n",
       "      <th>3</th>\n",
       "      <td>7.4092</td>\n",
       "      <td>6.8163</td>\n",
       "      <td>8.3570</td>\n",
       "      <td>10.2316</td>\n",
       "      <td>12.9042</td>\n",
       "      <td>11.2145</td>\n",
       "      <td>5.7204</td>\n",
       "      <td>5.8556</td>\n",
       "      <td>20.0</td>\n",
       "      <td>20.0</td>\n",
       "      <td>5.2275</td>\n",
       "      <td>2.7297</td>\n",
       "      <td>4.2796</td>\n",
       "      <td>5.4929</td>\n",
       "      <td>1.4179</td>\n",
       "      <td>6.4045</td>\n",
       "      <td>-32.5</td>\n",
       "    </tr>\n",
       "    <tr>\n",
       "      <th>4</th>\n",
       "      <td>7.4054</td>\n",
       "      <td>6.8127</td>\n",
       "      <td>8.3538</td>\n",
       "      <td>10.2285</td>\n",
       "      <td>12.9016</td>\n",
       "      <td>11.2124</td>\n",
       "      <td>5.7184</td>\n",
       "      <td>5.8543</td>\n",
       "      <td>20.0</td>\n",
       "      <td>20.0</td>\n",
       "      <td>5.2242</td>\n",
       "      <td>2.7262</td>\n",
       "      <td>4.2759</td>\n",
       "      <td>5.4891</td>\n",
       "      <td>1.4140</td>\n",
       "      <td>6.4005</td>\n",
       "      <td>-32.0</td>\n",
       "    </tr>\n",
       "  </tbody>\n",
       "</table>\n",
       "</div>"
      ],
      "text/plain": [
       "       0       1       2        3        4        5       6       7     8   \\\n",
       "0  7.4097  6.8168  8.3575  10.2320  12.9046  11.2148  5.7206  5.8557  20.0   \n",
       "1  7.4097  6.8168  8.3575  10.2320  12.9046  11.2148  5.7206  5.8557  20.0   \n",
       "2  7.4092  6.8163  8.3570  10.2316  12.9042  11.2145  5.7204  5.8556  20.0   \n",
       "3  7.4092  6.8163  8.3570  10.2316  12.9042  11.2145  5.7204  5.8556  20.0   \n",
       "4  7.4054  6.8127  8.3538  10.2285  12.9016  11.2124  5.7184  5.8543  20.0   \n",
       "\n",
       "     9       10      11      12      13      14      15    16  \n",
       "0  20.0  5.2280  2.7302  4.2801  5.4935  1.4185  6.4051 -33.0  \n",
       "1  20.0  5.2280  2.7302  4.2801  5.4935  1.4185  6.4051 -33.0  \n",
       "2  20.0  5.2275  2.7297  4.2796  5.4929  1.4179  6.4045 -32.5  \n",
       "3  20.0  5.2275  2.7297  4.2796  5.4929  1.4179  6.4045 -32.5  \n",
       "4  20.0  5.2242  2.7262  4.2759  5.4891  1.4140  6.4005 -32.0  "
      ]
     },
     "execution_count": 6,
     "metadata": {},
     "output_type": "execute_result"
    }
   ],
   "source": [
    "# check seperator -> 4 columns present?\n",
    "df_train.head()"
   ]
  },
  {
   "cell_type": "code",
   "execution_count": 8,
   "id": "0a855b95-7294-45df-8f98-e96c7ce05c7d",
   "metadata": {},
   "outputs": [
    {
     "data": {
      "text/html": [
       "<div>\n",
       "<style scoped>\n",
       "    .dataframe tbody tr th:only-of-type {\n",
       "        vertical-align: middle;\n",
       "    }\n",
       "\n",
       "    .dataframe tbody tr th {\n",
       "        vertical-align: top;\n",
       "    }\n",
       "\n",
       "    .dataframe thead th {\n",
       "        text-align: right;\n",
       "    }\n",
       "</style>\n",
       "<table border=\"1\" class=\"dataframe\">\n",
       "  <thead>\n",
       "    <tr style=\"text-align: right;\">\n",
       "      <th></th>\n",
       "      <th>0</th>\n",
       "      <th>1</th>\n",
       "      <th>2</th>\n",
       "      <th>3</th>\n",
       "      <th>4</th>\n",
       "      <th>5</th>\n",
       "      <th>6</th>\n",
       "      <th>7</th>\n",
       "      <th>8</th>\n",
       "      <th>9</th>\n",
       "      <th>10</th>\n",
       "      <th>11</th>\n",
       "      <th>12</th>\n",
       "      <th>13</th>\n",
       "      <th>14</th>\n",
       "      <th>15</th>\n",
       "    </tr>\n",
       "  </thead>\n",
       "  <tbody>\n",
       "    <tr>\n",
       "      <th>0</th>\n",
       "      <td>7.4097</td>\n",
       "      <td>6.8168</td>\n",
       "      <td>8.3575</td>\n",
       "      <td>10.2320</td>\n",
       "      <td>12.9046</td>\n",
       "      <td>11.2148</td>\n",
       "      <td>5.7206</td>\n",
       "      <td>5.8557</td>\n",
       "      <td>20.0</td>\n",
       "      <td>20.0</td>\n",
       "      <td>5.2280</td>\n",
       "      <td>2.7302</td>\n",
       "      <td>4.2801</td>\n",
       "      <td>5.4935</td>\n",
       "      <td>1.4185</td>\n",
       "      <td>6.4051</td>\n",
       "    </tr>\n",
       "    <tr>\n",
       "      <th>1</th>\n",
       "      <td>7.4097</td>\n",
       "      <td>6.8168</td>\n",
       "      <td>8.3575</td>\n",
       "      <td>10.2320</td>\n",
       "      <td>12.9046</td>\n",
       "      <td>11.2148</td>\n",
       "      <td>5.7206</td>\n",
       "      <td>5.8557</td>\n",
       "      <td>20.0</td>\n",
       "      <td>20.0</td>\n",
       "      <td>5.2280</td>\n",
       "      <td>2.7302</td>\n",
       "      <td>4.2801</td>\n",
       "      <td>5.4935</td>\n",
       "      <td>1.4185</td>\n",
       "      <td>6.4051</td>\n",
       "    </tr>\n",
       "    <tr>\n",
       "      <th>2</th>\n",
       "      <td>7.4092</td>\n",
       "      <td>6.8163</td>\n",
       "      <td>8.3570</td>\n",
       "      <td>10.2316</td>\n",
       "      <td>12.9042</td>\n",
       "      <td>11.2145</td>\n",
       "      <td>5.7204</td>\n",
       "      <td>5.8556</td>\n",
       "      <td>20.0</td>\n",
       "      <td>20.0</td>\n",
       "      <td>5.2275</td>\n",
       "      <td>2.7297</td>\n",
       "      <td>4.2796</td>\n",
       "      <td>5.4929</td>\n",
       "      <td>1.4179</td>\n",
       "      <td>6.4045</td>\n",
       "    </tr>\n",
       "    <tr>\n",
       "      <th>3</th>\n",
       "      <td>7.4092</td>\n",
       "      <td>6.8163</td>\n",
       "      <td>8.3570</td>\n",
       "      <td>10.2316</td>\n",
       "      <td>12.9042</td>\n",
       "      <td>11.2145</td>\n",
       "      <td>5.7204</td>\n",
       "      <td>5.8556</td>\n",
       "      <td>20.0</td>\n",
       "      <td>20.0</td>\n",
       "      <td>5.2275</td>\n",
       "      <td>2.7297</td>\n",
       "      <td>4.2796</td>\n",
       "      <td>5.4929</td>\n",
       "      <td>1.4179</td>\n",
       "      <td>6.4045</td>\n",
       "    </tr>\n",
       "    <tr>\n",
       "      <th>4</th>\n",
       "      <td>7.4054</td>\n",
       "      <td>6.8127</td>\n",
       "      <td>8.3538</td>\n",
       "      <td>10.2285</td>\n",
       "      <td>12.9016</td>\n",
       "      <td>11.2124</td>\n",
       "      <td>5.7184</td>\n",
       "      <td>5.8543</td>\n",
       "      <td>20.0</td>\n",
       "      <td>20.0</td>\n",
       "      <td>5.2242</td>\n",
       "      <td>2.7262</td>\n",
       "      <td>4.2759</td>\n",
       "      <td>5.4891</td>\n",
       "      <td>1.4140</td>\n",
       "      <td>6.4005</td>\n",
       "    </tr>\n",
       "  </tbody>\n",
       "</table>\n",
       "</div>"
      ],
      "text/plain": [
       "       0       1       2        3        4        5       6       7     8   \\\n",
       "0  7.4097  6.8168  8.3575  10.2320  12.9046  11.2148  5.7206  5.8557  20.0   \n",
       "1  7.4097  6.8168  8.3575  10.2320  12.9046  11.2148  5.7206  5.8557  20.0   \n",
       "2  7.4092  6.8163  8.3570  10.2316  12.9042  11.2145  5.7204  5.8556  20.0   \n",
       "3  7.4092  6.8163  8.3570  10.2316  12.9042  11.2145  5.7204  5.8556  20.0   \n",
       "4  7.4054  6.8127  8.3538  10.2285  12.9016  11.2124  5.7184  5.8543  20.0   \n",
       "\n",
       "     9       10      11      12      13      14      15  \n",
       "0  20.0  5.2280  2.7302  4.2801  5.4935  1.4185  6.4051  \n",
       "1  20.0  5.2280  2.7302  4.2801  5.4935  1.4185  6.4051  \n",
       "2  20.0  5.2275  2.7297  4.2796  5.4929  1.4179  6.4045  \n",
       "3  20.0  5.2275  2.7297  4.2796  5.4929  1.4179  6.4045  \n",
       "4  20.0  5.2242  2.7262  4.2759  5.4891  1.4140  6.4005  "
      ]
     },
     "execution_count": 8,
     "metadata": {},
     "output_type": "execute_result"
    }
   ],
   "source": [
    "df_trainX = df_train.iloc[:,0:16]\n",
    "df_trainX.head()"
   ]
  },
  {
   "cell_type": "code",
   "execution_count": 9,
   "id": "0aef1880-f0d3-4985-b776-c9bd6a11b7eb",
   "metadata": {},
   "outputs": [
    {
     "data": {
      "text/plain": [
       "0   -33.0\n",
       "1   -33.0\n",
       "2   -32.5\n",
       "3   -32.5\n",
       "4   -32.0\n",
       "Name: 16, dtype: float64"
      ]
     },
     "execution_count": 9,
     "metadata": {},
     "output_type": "execute_result"
    }
   ],
   "source": [
    "df_trainY = df_train.iloc[:,-1]\n",
    "df_trainY.head()"
   ]
  },
  {
   "cell_type": "code",
   "execution_count": 10,
   "id": "d99cb3d4-07d1-4d45-8138-9ad9725882f6",
   "metadata": {},
   "outputs": [],
   "source": [
    "trainingSetX = torch.tensor(df_trainX.values, dtype = torch.float32)\n",
    "trainingSetY = torch.tensor(df_trainY.values, dtype = torch.float32)"
   ]
  },
  {
   "cell_type": "code",
   "execution_count": 11,
   "id": "caadc614-8a49-47bb-918d-43964d718f52",
   "metadata": {},
   "outputs": [
    {
     "name": "stdout",
     "output_type": "stream",
     "text": [
      "torch.Size([1528, 16])\n",
      "torch.Size([1528])\n"
     ]
    }
   ],
   "source": [
    "print(trainingSetX.shape)\n",
    "print(trainingSetY.shape)"
   ]
  },
  {
   "cell_type": "code",
   "execution_count": 12,
   "id": "a0913747-1374-499b-8f3b-a3b839f53e1d",
   "metadata": {},
   "outputs": [],
   "source": [
    "# create DataLoader, then take one batch\n",
    "# from batch_size=16 to 2500 (entire dataset)\n",
    "loader = DataLoader(list(zip(trainingSetX,trainingSetY)), shuffle=False, batch_size=64)\n",
    "for x_batch, y_batch in loader:\n",
    "    # print(x_batch, y_batch)\n",
    "    break"
   ]
  },
  {
   "cell_type": "code",
   "execution_count": null,
   "id": "d46329c9-3c67-4b42-a15b-b11cb3497987",
   "metadata": {},
   "outputs": [],
   "source": []
  },
  {
   "cell_type": "code",
   "execution_count": 13,
   "id": "a5ad810c-8cb3-4057-822b-fdaec3091884",
   "metadata": {},
   "outputs": [],
   "source": [
    "class AutoBrain(nn.Module):\n",
    "    \n",
    "    #def __init__(self, inputs, outputs):\n",
    "    def __init__(self):\n",
    "        \n",
    "        super().__init__()\n",
    "        \n",
    "        # Advanced linear connections\n",
    "        # self.inOut = nn.Linear(inputs, outputs)\n",
    "        # self.inOut = nn.Linear(3,1)\n",
    "        self.inOut = nn.Sequential(\n",
    "            nn.Linear(16, 64),\n",
    "            nn.ReLU(),\n",
    "            nn.Linear(64, 16),\n",
    "            nn.SiLU(),\n",
    "            # nn.ReLU(),\n",
    "            nn.Linear(16, 1)\n",
    "        )\n",
    "        \n",
    "            \n",
    "    def forward(self, x):\n",
    "        \n",
    "        # return self.sigmoid(self.inOut(x))\n",
    "        # return self.tanh(self.inOut(x))\n",
    "        return self.inOut(x)\n",
    "        # pass\n",
    "        "
   ]
  },
  {
   "cell_type": "code",
   "execution_count": 14,
   "id": "3908b91d-b3bc-4eae-a46c-2aed7d229fc6",
   "metadata": {},
   "outputs": [],
   "source": [
    "# Train the model\n",
    "# epochs = 200\n",
    "# loss_fn = nn.MSELoss()\n",
    "# optimizer = optim.SGD(model.parameters(), lr=0.1)\n",
    "# model.train()\n",
    "# for epoch in range(epochs):\n",
    "#     for x_batch, y_batch in loader:\n",
    "#         y_hat = model(x_batch)\n",
    "#         loss = loss_fn(y_hat, y_batch)\n",
    "#         # print(y_hat-y_batch)\n",
    "#         optimizer.zero_grad()\n",
    "#         loss.backward()\n",
    "#         optimizer.step()"
   ]
  },
  {
   "cell_type": "code",
   "execution_count": 15,
   "id": "6b74932c-899b-4723-8097-89a854d5d131",
   "metadata": {},
   "outputs": [
    {
     "name": "stdout",
     "output_type": "stream",
     "text": [
      "tensor([[ 7.4097,  6.8168,  8.3575,  ...,  5.4935,  1.4185,  6.4051],\n",
      "        [ 7.4097,  6.8168,  8.3575,  ...,  5.4935,  1.4185,  6.4051],\n",
      "        [ 7.4092,  6.8163,  8.3570,  ...,  5.4929,  1.4179,  6.4045],\n",
      "        ...,\n",
      "        [ 4.3017, 20.0000,  3.6084,  ..., 20.0000,  1.5760, 20.0000],\n",
      "        [ 4.3017, 20.0000,  3.6084,  ..., 20.0000,  1.5760, 20.0000],\n",
      "        [20.0000,  4.2581, 20.0000,  ..., 20.0000,  4.0706,  1.5332]])\n"
     ]
    }
   ],
   "source": [
    "print(x_batch)"
   ]
  },
  {
   "cell_type": "code",
   "execution_count": 16,
   "id": "e8bc6028-921b-40e0-8465-66f855a08e18",
   "metadata": {},
   "outputs": [
    {
     "name": "stdout",
     "output_type": "stream",
     "text": [
      "AutoBrain(\n",
      "  (inOut): Sequential(\n",
      "    (0): Linear(in_features=16, out_features=64, bias=True)\n",
      "    (1): ReLU()\n",
      "    (2): Linear(in_features=64, out_features=16, bias=True)\n",
      "    (3): SiLU()\n",
      "    (4): Linear(in_features=16, out_features=1, bias=True)\n",
      "  )\n",
      ")\n"
     ]
    }
   ],
   "source": [
    "model = AutoBrain()\n",
    "\n",
    "print(model)"
   ]
  },
  {
   "cell_type": "code",
   "execution_count": 17,
   "id": "2e1431ce-94ca-4feb-80da-f989a771b076",
   "metadata": {},
   "outputs": [
    {
     "name": "stdout",
     "output_type": "stream",
     "text": [
      "tensor([[ 0.1994, -0.2121, -0.1107,  ...,  0.2419,  0.1204,  0.0446],\n",
      "        [ 0.2153,  0.1270, -0.1054,  ..., -0.0069, -0.0144, -0.1303],\n",
      "        [-0.1638, -0.0311, -0.1735,  ..., -0.0447,  0.1939, -0.2223],\n",
      "        ...,\n",
      "        [-0.0038, -0.1508,  0.2435,  ..., -0.0491,  0.0098,  0.1253],\n",
      "        [-0.0624,  0.1107,  0.0806,  ..., -0.1193, -0.1117, -0.1779],\n",
      "        [ 0.1025,  0.1148,  0.2170,  ...,  0.0522,  0.0245, -0.2383]])\n",
      "tensor([ 0.1475,  0.0974,  0.0654, -0.0447,  0.1837, -0.0377,  0.0349, -0.1439,\n",
      "        -0.0281, -0.1384,  0.1836,  0.1416, -0.2229,  0.0156,  0.2197, -0.0900,\n",
      "        -0.0488,  0.2465,  0.0797, -0.0061, -0.0027, -0.0242,  0.0887,  0.0187,\n",
      "        -0.0338, -0.0395, -0.0636,  0.1822,  0.1896,  0.0763, -0.1700, -0.2173,\n",
      "         0.1979,  0.0873,  0.0065,  0.1684, -0.0860, -0.1690, -0.0395, -0.2038,\n",
      "        -0.0049,  0.1168,  0.0461, -0.0089,  0.2261,  0.2396,  0.1690, -0.0877,\n",
      "         0.1158, -0.1801,  0.1991,  0.1819, -0.0684, -0.1524,  0.0917, -0.0003,\n",
      "         0.1582,  0.1379, -0.0989, -0.0693, -0.1794,  0.0100,  0.1743,  0.0153])\n",
      "tensor([[ 0.0489, -0.0007,  0.0062,  ..., -0.0886,  0.0632,  0.0748],\n",
      "        [ 0.0409,  0.0341,  0.0141,  ...,  0.1016,  0.0637, -0.0934],\n",
      "        [ 0.0055, -0.1037,  0.0890,  ...,  0.0649, -0.0290, -0.0952],\n",
      "        ...,\n",
      "        [ 0.0607,  0.1104, -0.0531,  ...,  0.1151, -0.1189, -0.0019],\n",
      "        [ 0.0102,  0.0778, -0.0578,  ..., -0.1120, -0.0502, -0.0373],\n",
      "        [ 0.1176,  0.0761,  0.0525,  ...,  0.1135,  0.0672, -0.0928]])\n",
      "tensor([ 0.0080, -0.1041, -0.1242,  0.0006,  0.1207,  0.0637, -0.0938,  0.1032,\n",
      "         0.0617,  0.0144,  0.0967, -0.0809,  0.0359,  0.0697,  0.0387, -0.0606])\n",
      "tensor([[ 0.1926, -0.1443,  0.0255, -0.1051,  0.1355, -0.0901, -0.0725,  0.1083,\n",
      "         -0.1795,  0.1277,  0.1256, -0.0573, -0.1576,  0.0944,  0.0554,  0.0900]])\n",
      "tensor([0.2310])\n"
     ]
    }
   ],
   "source": [
    "for p in model.parameters():\n",
    "    print(p.data)"
   ]
  },
  {
   "cell_type": "code",
   "execution_count": 18,
   "id": "997b35e1-af28-4783-b7a2-28e214269c3f",
   "metadata": {},
   "outputs": [
    {
     "name": "stdout",
     "output_type": "stream",
     "text": [
      "tensor([[ 0.1994, -0.2121, -0.1107,  ...,  0.2419,  0.1204,  0.0446],\n",
      "        [ 0.2153,  0.1270, -0.1054,  ..., -0.0069, -0.0144, -0.1303],\n",
      "        [-0.1638, -0.0311, -0.1735,  ..., -0.0447,  0.1939, -0.2223],\n",
      "        ...,\n",
      "        [-0.0038, -0.1508,  0.2435,  ..., -0.0491,  0.0098,  0.1253],\n",
      "        [-0.0624,  0.1107,  0.0806,  ..., -0.1193, -0.1117, -0.1779],\n",
      "        [ 0.1025,  0.1148,  0.2170,  ...,  0.0522,  0.0245, -0.2383]])\n",
      "tensor([ 0.1475,  0.0974,  0.0654, -0.0447,  0.1837, -0.0377,  0.0349, -0.1439,\n",
      "        -0.0281, -0.1384,  0.1836,  0.1416, -0.2229,  0.0156,  0.2197, -0.0900,\n",
      "        -0.0488,  0.2465,  0.0797, -0.0061, -0.0027, -0.0242,  0.0887,  0.0187,\n",
      "        -0.0338, -0.0395, -0.0636,  0.1822,  0.1896,  0.0763, -0.1700, -0.2173,\n",
      "         0.1979,  0.0873,  0.0065,  0.1684, -0.0860, -0.1690, -0.0395, -0.2038,\n",
      "        -0.0049,  0.1168,  0.0461, -0.0089,  0.2261,  0.2396,  0.1690, -0.0877,\n",
      "         0.1158, -0.1801,  0.1991,  0.1819, -0.0684, -0.1524,  0.0917, -0.0003,\n",
      "         0.1582,  0.1379, -0.0989, -0.0693, -0.1794,  0.0100,  0.1743,  0.0153])\n",
      "tensor([[ 0.0489, -0.0007,  0.0062,  ..., -0.0886,  0.0632,  0.0748],\n",
      "        [ 0.0409,  0.0341,  0.0141,  ...,  0.1016,  0.0637, -0.0934],\n",
      "        [ 0.0055, -0.1037,  0.0890,  ...,  0.0649, -0.0290, -0.0952],\n",
      "        ...,\n",
      "        [ 0.0607,  0.1104, -0.0531,  ...,  0.1151, -0.1189, -0.0019],\n",
      "        [ 0.0102,  0.0778, -0.0578,  ..., -0.1120, -0.0502, -0.0373],\n",
      "        [ 0.1176,  0.0761,  0.0525,  ...,  0.1135,  0.0672, -0.0928]])\n",
      "tensor([ 0.0080, -0.1041, -0.1242,  0.0006,  0.1207,  0.0637, -0.0938,  0.1032,\n",
      "         0.0617,  0.0144,  0.0967, -0.0809,  0.0359,  0.0697,  0.0387, -0.0606])\n",
      "tensor([[ 0.1926, -0.1443,  0.0255, -0.1051,  0.1355, -0.0901, -0.0725,  0.1083,\n",
      "         -0.1795,  0.1277,  0.1256, -0.0573, -0.1576,  0.0944,  0.0554,  0.0900]])\n",
      "tensor([0.2310])\n"
     ]
    }
   ],
   "source": [
    "for p in model.parameters():\n",
    "    print(p.data)"
   ]
  },
  {
   "cell_type": "code",
   "execution_count": 19,
   "id": "acc35670-8ca2-4e80-bc45-12c37a97d2b8",
   "metadata": {},
   "outputs": [
    {
     "name": "stderr",
     "output_type": "stream",
     "text": [
      "/home/pans/miniconda3/envs/miw/lib/python3.10/site-packages/torch/nn/modules/loss.py:536: UserWarning: Using a target size (torch.Size([64])) that is different to the input size (torch.Size([64, 1])). This will likely lead to incorrect results due to broadcasting. Please ensure they have the same size.\n",
      "  return F.mse_loss(input, target, reduction=self.reduction)\n",
      "/home/pans/miniconda3/envs/miw/lib/python3.10/site-packages/torch/nn/modules/loss.py:536: UserWarning: Using a target size (torch.Size([56])) that is different to the input size (torch.Size([56, 1])). This will likely lead to incorrect results due to broadcasting. Please ensure they have the same size.\n",
      "  return F.mse_loss(input, target, reduction=self.reduction)\n"
     ]
    }
   ],
   "source": [
    "# Train the model\n",
    "\n",
    "\n",
    "\n",
    "epochCount = 0\n",
    "\n",
    "epochLoss = []\n",
    "\n",
    "epochs = 300\n",
    "loss_fn = nn.MSELoss()\n",
    "# optimizer = optim.SGD(model.parameters(), lr=0.001) # lr=0.01\n",
    "optimizer = optim.Adagrad(model.parameters(), lr=0.01) # lr=0.01\n",
    "\n",
    "# model.train()\n",
    "\n",
    "for epoch in range(epochs):\n",
    "    losses = 0\n",
    "    \n",
    "    for x_batch, y_batch in loader:\n",
    "        y_hat = model(x_batch)\n",
    "        loss = loss_fn(y_hat, y_batch)\n",
    "        # print(y_hat-y_batch)\n",
    "        optimizer.zero_grad()\n",
    "        loss.backward()\n",
    "        optimizer.step()\n",
    "        # print(loss.item())\n",
    "        epochCount += 1\n",
    "        losses += (loss.item())\n",
    "        \n",
    "    epochLoss.append((losses)/len(loader))\n",
    "    # print(losses)"
   ]
  },
  {
   "cell_type": "code",
   "execution_count": null,
   "id": "89e60dad-c139-42dd-a4ec-d8c6331fe1e8",
   "metadata": {},
   "outputs": [],
   "source": []
  },
  {
   "cell_type": "code",
   "execution_count": 20,
   "id": "98d614b0-85dc-4d31-855f-1c0d5cecc63c",
   "metadata": {},
   "outputs": [
    {
     "name": "stdout",
     "output_type": "stream",
     "text": [
      "Model accuracy: 1.79%\n"
     ]
    }
   ],
   "source": [
    "# evaluate accuracy after training\n",
    "model.eval()\n",
    "y_hat = model(trainingSetX)\n",
    "acc = (y_hat.round() == trainingSetY).float().mean()\n",
    "acc = float(acc)\n",
    "print(\"Model accuracy: %.2f%%\" % (acc*100))"
   ]
  },
  {
   "cell_type": "code",
   "execution_count": 21,
   "id": "a5d389bd-6990-481a-a51e-97e95967aed6",
   "metadata": {},
   "outputs": [
    {
     "data": {
      "text/plain": [
       "tensor(3.2054, grad_fn=<MseLossBackward0>)"
      ]
     },
     "metadata": {},
     "output_type": "display_data"
    }
   ],
   "source": [
    "display(loss)"
   ]
  },
  {
   "cell_type": "code",
   "execution_count": 22,
   "id": "43692a87-36a8-4e18-96a3-0e1a1e072b8b",
   "metadata": {},
   "outputs": [
    {
     "data": {
      "image/png": "[encoded data removed]",
      "text/plain": [
       "<Figure size 640x480 with 1 Axes>"
      ]
     },
     "metadata": {},
     "output_type": "display_data"
    }
   ],
   "source": [
    "#----------------------------------------\n",
    "\n",
    "fig, ax = plt.subplots()\n",
    "ax.set(xlabel='Epoch', ylabel='Loss', title=\"Training Loss\")\n",
    "\n",
    "# plt.plot([x for x in range(epochs)], losses, 'red')\n",
    "# plt.plot([x in], losses, 'red')\n",
    "plt.plot(epochLoss, 'red')\n",
    "plt.show()\n",
    "\n",
    "#----------------------------------------"
   ]
  },
  {
   "cell_type": "code",
   "execution_count": 23,
   "id": "6bb0276f-f6c6-407d-9b17-9d16835362eb",
   "metadata": {},
   "outputs": [],
   "source": [
    "# Save trained model\n",
    "# data/sonar_model_weights.pth heeft accuracy 57%\n",
    "torch.save(model.inOut, 'data/lidar_model_1.pth')"
   ]
  },
  {
   "cell_type": "code",
   "execution_count": 130,
   "id": "91d3d6fd-5f8c-493c-a559-18937dd6da20",
   "metadata": {},
   "outputs": [],
   "source": [
    "import pickle\n",
    "\n",
    "pickle.dump(model.inOut, open('data/sonar_model.pkl', 'wb'))\n"
   ]
  },
  {
   "cell_type": "code",
   "execution_count": 126,
   "id": "94501c90-3dd0-4f91-b41b-08ab3b41bb41",
   "metadata": {},
   "outputs": [
    {
     "data": {
      "text/plain": [
       "AutoBrain(\n",
       "  (inOut): Sequential(\n",
       "    (0): Linear(in_features=3, out_features=9, bias=True)\n",
       "    (1): ReLU()\n",
       "    (2): Linear(in_features=9, out_features=3, bias=True)\n",
       "    (3): SiLU()\n",
       "    (4): Linear(in_features=3, out_features=1, bias=True)\n",
       "  )\n",
       ")"
      ]
     },
     "execution_count": 126,
     "metadata": {},
     "output_type": "execute_result"
    }
   ],
   "source": [
    "# To load trained model:\n",
    "model = torch.load('data/sonar_model_weights_2.pth')\n",
    "model.eval()"
   ]
  },
  {
   "cell_type": "code",
   "execution_count": 127,
   "id": "04b4661b-949b-46da-bdf4-efa3c4923ae3",
   "metadata": {},
   "outputs": [],
   "source": [
    "pickled_model = pickle.load(open('data/sonar_model.pkl', 'rb'))"
   ]
  },
  {
   "cell_type": "code",
   "execution_count": null,
   "id": "a5d78301-8e33-4f43-b8f7-e19bb7d0f6a9",
   "metadata": {},
   "outputs": [
    {
     "data": {
      "text/plain": [
       "AutoBrain(\n",
       "  (inOut): Sequential(\n",
       "    (0): Linear(in_features=3, out_features=9, bias=True)\n",
       "    (1): ReLU()\n",
       "    (2): Linear(in_features=9, out_features=3, bias=True)\n",
       "    (3): SiLU()\n",
       "    (4): Linear(in_features=3, out_features=1, bias=True)\n",
       "  )\n",
       ")"
      ]
     },
     "execution_count": 128,
     "metadata": {},
     "output_type": "execute_result"
    }
   ],
   "source": [
    "pickled_model.eval()"
   ]
  },
  {
   "cell_type": "code",
   "execution_count": 137,
   "id": "cb70c57d-bf7c-4618-aa2a-d0204801f412",
   "metadata": {},
   "outputs": [
    {
     "data": {
      "text/plain": [
       "tensor([-7.7267], grad_fn=<AddBackward0>)"
      ]
     },
     "execution_count": 137,
     "metadata": {},
     "output_type": "execute_result"
    }
   ],
   "source": [
    "model(torch.tensor([0.9781, 1.1411, 2.2500]))"
   ]
  },
  {
   "cell_type": "code",
   "execution_count": null,
   "id": "1bedfcba-d0c5-4e29-9b8a-3ef4b25814a7",
   "metadata": {},
   "outputs": [],
   "source": []
  }
 ],
 "metadata": {
  "kernelspec": {
   "display_name": "Python 3 (ipykernel)",
   "language": "python",
   "name": "python3"
  },
  "language_info": {
   "codemirror_mode": {
    "name": "ipython",
    "version": 3
   },
   "file_extension": ".py",
   "mimetype": "text/x-python",
   "name": "python",
   "nbconvert_exporter": "python",
   "pygments_lexer": "ipython3",
   "version": "3.10.10"
  }
 },
 "nbformat": 4,
 "nbformat_minor": 5
}
