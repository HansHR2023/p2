{
 "cells": [
  {
   "cell_type": "markdown",
   "id": "14985755-e64b-4635-8edf-d8841d0ee4b6",
   "metadata": {},
   "source": [
    "<h1>PyTorch Neural Net to train Car</h1>\n",
    "\n",
    "This notebook is the start of project 2, using the example of PyTorch tutorials from PyTorch.org. \n",
    "\n",
    "In this notebook we switch to the use of a DataLoader and to the use of <strong>ML Flow</strong>."
   ]
  },
  {
   "cell_type": "code",
   "execution_count": 1,
   "id": "3192d15f-f3c0-41cb-8103-45086b504856",
   "metadata": {},
   "outputs": [],
   "source": [
    "import pandas as pd\n",
    "import torch\n",
    "from torch import nn\n",
    "from torch import optim\n",
    "from torch.utils.data import Dataset, DataLoader\n",
    "\n",
    "import mlflow\n",
    "# import mlflow.pytorch \n",
    "# import pytorch_lightning as pl\n",
    "\n",
    "import matplotlib.pyplot as plt"
   ]
  },
  {
   "cell_type": "code",
   "execution_count": 2,
   "id": "aeca8a04-ab71-42a4-9673-c81b2bffff91",
   "metadata": {},
   "outputs": [
    {
     "name": "stdout",
     "output_type": "stream",
     "text": [
      "cuda\n"
     ]
    }
   ],
   "source": [
    "device = 'cuda' if torch.cuda.is_available() else 'cpu'\n",
    "print(device)"
   ]
  },
  {
   "cell_type": "code",
   "execution_count": null,
   "id": "967de451-c3d4-42f4-98ae-3739200121dd",
   "metadata": {},
   "outputs": [],
   "source": []
  },
  {
   "cell_type": "code",
   "execution_count": 17,
   "id": "e99eda3d-cb8e-42f2-b9a3-0dda368d74e4",
   "metadata": {},
   "outputs": [],
   "source": [
    "# import data in pandas\n",
    "# df_train = pd.read_csv('../simpylc/sonar_1.samples', delim_whitespace=True,\n",
    "#                  header=None, index_col=False)\n",
    "\n",
    "data_samples = 'Lidar5000.samples'\n",
    "df_train = pd.read_csv(data_samples, delim_whitespace=True,\n",
    "                 header=None, index_col=False)"
   ]
  },
  {
   "cell_type": "code",
   "execution_count": 18,
   "id": "8c811a6c-ce9c-4043-96c3-95036b42925c",
   "metadata": {},
   "outputs": [
    {
     "name": "stdout",
     "output_type": "stream",
     "text": [
      "<class 'pandas.core.frame.DataFrame'>\n",
      "RangeIndex: 5000 entries, 0 to 4999\n",
      "Data columns (total 17 columns):\n",
      " #   Column  Non-Null Count  Dtype  \n",
      "---  ------  --------------  -----  \n",
      " 0   0       5000 non-null   float64\n",
      " 1   1       5000 non-null   float64\n",
      " 2   2       5000 non-null   float64\n",
      " 3   3       5000 non-null   float64\n",
      " 4   4       5000 non-null   float64\n",
      " 5   5       5000 non-null   float64\n",
      " 6   6       5000 non-null   float64\n",
      " 7   7       5000 non-null   float64\n",
      " 8   8       5000 non-null   float64\n",
      " 9   9       5000 non-null   float64\n",
      " 10  10      5000 non-null   float64\n",
      " 11  11      5000 non-null   float64\n",
      " 12  12      5000 non-null   float64\n",
      " 13  13      5000 non-null   float64\n",
      " 14  14      5000 non-null   float64\n",
      " 15  15      5000 non-null   float64\n",
      " 16  16      5000 non-null   float64\n",
      "dtypes: float64(17)\n",
      "memory usage: 664.2 KB\n"
     ]
    }
   ],
   "source": [
    "# check data type -> float, not object\n",
    "df_train.info()"
   ]
  },
  {
   "cell_type": "code",
   "execution_count": 19,
   "id": "871ec6ba-8c3c-43bf-b37e-bae079f5951f",
   "metadata": {},
   "outputs": [
    {
     "data": {
      "text/html": [
       "<div>\n",
       "<style scoped>\n",
       "    .dataframe tbody tr th:only-of-type {\n",
       "        vertical-align: middle;\n",
       "    }\n",
       "\n",
       "    .dataframe tbody tr th {\n",
       "        vertical-align: top;\n",
       "    }\n",
       "\n",
       "    .dataframe thead th {\n",
       "        text-align: right;\n",
       "    }\n",
       "</style>\n",
       "<table border=\"1\" class=\"dataframe\">\n",
       "  <thead>\n",
       "    <tr style=\"text-align: right;\">\n",
       "      <th></th>\n",
       "      <th>0</th>\n",
       "      <th>1</th>\n",
       "      <th>2</th>\n",
       "      <th>3</th>\n",
       "      <th>4</th>\n",
       "      <th>5</th>\n",
       "      <th>6</th>\n",
       "      <th>7</th>\n",
       "      <th>8</th>\n",
       "      <th>9</th>\n",
       "      <th>10</th>\n",
       "      <th>11</th>\n",
       "      <th>12</th>\n",
       "      <th>13</th>\n",
       "      <th>14</th>\n",
       "      <th>15</th>\n",
       "      <th>16</th>\n",
       "    </tr>\n",
       "  </thead>\n",
       "  <tbody>\n",
       "    <tr>\n",
       "      <th>0</th>\n",
       "      <td>7.4323</td>\n",
       "      <td>6.8392</td>\n",
       "      <td>8.3790</td>\n",
       "      <td>10.2530</td>\n",
       "      <td>12.9241</td>\n",
       "      <td>11.2324</td>\n",
       "      <td>5.7372</td>\n",
       "      <td>5.8695</td>\n",
       "      <td>20.0</td>\n",
       "      <td>20.0</td>\n",
       "      <td>5.2415</td>\n",
       "      <td>2.7460</td>\n",
       "      <td>4.2973</td>\n",
       "      <td>5.5127</td>\n",
       "      <td>1.4397</td>\n",
       "      <td>6.4269</td>\n",
       "      <td>-32.0</td>\n",
       "    </tr>\n",
       "    <tr>\n",
       "      <th>1</th>\n",
       "      <td>7.4322</td>\n",
       "      <td>6.8391</td>\n",
       "      <td>8.3789</td>\n",
       "      <td>10.2529</td>\n",
       "      <td>12.9240</td>\n",
       "      <td>11.2323</td>\n",
       "      <td>5.7371</td>\n",
       "      <td>5.8694</td>\n",
       "      <td>20.0</td>\n",
       "      <td>20.0</td>\n",
       "      <td>5.2415</td>\n",
       "      <td>2.7460</td>\n",
       "      <td>4.2972</td>\n",
       "      <td>5.5126</td>\n",
       "      <td>1.4396</td>\n",
       "      <td>6.4268</td>\n",
       "      <td>-32.0</td>\n",
       "    </tr>\n",
       "    <tr>\n",
       "      <th>2</th>\n",
       "      <td>7.4313</td>\n",
       "      <td>6.8382</td>\n",
       "      <td>8.3781</td>\n",
       "      <td>10.2522</td>\n",
       "      <td>12.9234</td>\n",
       "      <td>11.2318</td>\n",
       "      <td>5.7366</td>\n",
       "      <td>5.8691</td>\n",
       "      <td>20.0</td>\n",
       "      <td>20.0</td>\n",
       "      <td>5.2407</td>\n",
       "      <td>2.7451</td>\n",
       "      <td>4.2963</td>\n",
       "      <td>5.5117</td>\n",
       "      <td>1.4386</td>\n",
       "      <td>6.4259</td>\n",
       "      <td>-32.0</td>\n",
       "    </tr>\n",
       "    <tr>\n",
       "      <th>3</th>\n",
       "      <td>7.4296</td>\n",
       "      <td>6.8366</td>\n",
       "      <td>8.3767</td>\n",
       "      <td>10.2508</td>\n",
       "      <td>12.9222</td>\n",
       "      <td>11.2308</td>\n",
       "      <td>5.7358</td>\n",
       "      <td>5.8685</td>\n",
       "      <td>20.0</td>\n",
       "      <td>20.0</td>\n",
       "      <td>5.2392</td>\n",
       "      <td>2.7435</td>\n",
       "      <td>4.2947</td>\n",
       "      <td>5.5099</td>\n",
       "      <td>1.4368</td>\n",
       "      <td>6.4241</td>\n",
       "      <td>-32.0</td>\n",
       "    </tr>\n",
       "    <tr>\n",
       "      <th>4</th>\n",
       "      <td>7.4271</td>\n",
       "      <td>6.8342</td>\n",
       "      <td>8.3745</td>\n",
       "      <td>10.2488</td>\n",
       "      <td>12.9204</td>\n",
       "      <td>11.2294</td>\n",
       "      <td>5.7345</td>\n",
       "      <td>5.8676</td>\n",
       "      <td>20.0</td>\n",
       "      <td>20.0</td>\n",
       "      <td>5.2371</td>\n",
       "      <td>2.7412</td>\n",
       "      <td>4.2923</td>\n",
       "      <td>5.5074</td>\n",
       "      <td>1.4343</td>\n",
       "      <td>6.4215</td>\n",
       "      <td>-32.0</td>\n",
       "    </tr>\n",
       "  </tbody>\n",
       "</table>\n",
       "</div>"
      ],
      "text/plain": [
       "       0       1       2        3        4        5       6       7     8   \\\n",
       "0  7.4323  6.8392  8.3790  10.2530  12.9241  11.2324  5.7372  5.8695  20.0   \n",
       "1  7.4322  6.8391  8.3789  10.2529  12.9240  11.2323  5.7371  5.8694  20.0   \n",
       "2  7.4313  6.8382  8.3781  10.2522  12.9234  11.2318  5.7366  5.8691  20.0   \n",
       "3  7.4296  6.8366  8.3767  10.2508  12.9222  11.2308  5.7358  5.8685  20.0   \n",
       "4  7.4271  6.8342  8.3745  10.2488  12.9204  11.2294  5.7345  5.8676  20.0   \n",
       "\n",
       "     9       10      11      12      13      14      15    16  \n",
       "0  20.0  5.2415  2.7460  4.2973  5.5127  1.4397  6.4269 -32.0  \n",
       "1  20.0  5.2415  2.7460  4.2972  5.5126  1.4396  6.4268 -32.0  \n",
       "2  20.0  5.2407  2.7451  4.2963  5.5117  1.4386  6.4259 -32.0  \n",
       "3  20.0  5.2392  2.7435  4.2947  5.5099  1.4368  6.4241 -32.0  \n",
       "4  20.0  5.2371  2.7412  4.2923  5.5074  1.4343  6.4215 -32.0  "
      ]
     },
     "execution_count": 19,
     "metadata": {},
     "output_type": "execute_result"
    }
   ],
   "source": [
    "# check seperator -> 4 columns present?\n",
    "df_train.head()"
   ]
  },
  {
   "cell_type": "code",
   "execution_count": 20,
   "id": "0a855b95-7294-45df-8f98-e96c7ce05c7d",
   "metadata": {},
   "outputs": [
    {
     "data": {
      "text/html": [
       "<div>\n",
       "<style scoped>\n",
       "    .dataframe tbody tr th:only-of-type {\n",
       "        vertical-align: middle;\n",
       "    }\n",
       "\n",
       "    .dataframe tbody tr th {\n",
       "        vertical-align: top;\n",
       "    }\n",
       "\n",
       "    .dataframe thead th {\n",
       "        text-align: right;\n",
       "    }\n",
       "</style>\n",
       "<table border=\"1\" class=\"dataframe\">\n",
       "  <thead>\n",
       "    <tr style=\"text-align: right;\">\n",
       "      <th></th>\n",
       "      <th>0</th>\n",
       "      <th>1</th>\n",
       "      <th>2</th>\n",
       "      <th>3</th>\n",
       "      <th>4</th>\n",
       "      <th>5</th>\n",
       "      <th>6</th>\n",
       "      <th>7</th>\n",
       "      <th>8</th>\n",
       "      <th>9</th>\n",
       "      <th>10</th>\n",
       "      <th>11</th>\n",
       "      <th>12</th>\n",
       "      <th>13</th>\n",
       "      <th>14</th>\n",
       "      <th>15</th>\n",
       "    </tr>\n",
       "  </thead>\n",
       "  <tbody>\n",
       "    <tr>\n",
       "      <th>0</th>\n",
       "      <td>7.4323</td>\n",
       "      <td>6.8392</td>\n",
       "      <td>8.3790</td>\n",
       "      <td>10.2530</td>\n",
       "      <td>12.9241</td>\n",
       "      <td>11.2324</td>\n",
       "      <td>5.7372</td>\n",
       "      <td>5.8695</td>\n",
       "      <td>20.0</td>\n",
       "      <td>20.0</td>\n",
       "      <td>5.2415</td>\n",
       "      <td>2.7460</td>\n",
       "      <td>4.2973</td>\n",
       "      <td>5.5127</td>\n",
       "      <td>1.4397</td>\n",
       "      <td>6.4269</td>\n",
       "    </tr>\n",
       "    <tr>\n",
       "      <th>1</th>\n",
       "      <td>7.4322</td>\n",
       "      <td>6.8391</td>\n",
       "      <td>8.3789</td>\n",
       "      <td>10.2529</td>\n",
       "      <td>12.9240</td>\n",
       "      <td>11.2323</td>\n",
       "      <td>5.7371</td>\n",
       "      <td>5.8694</td>\n",
       "      <td>20.0</td>\n",
       "      <td>20.0</td>\n",
       "      <td>5.2415</td>\n",
       "      <td>2.7460</td>\n",
       "      <td>4.2972</td>\n",
       "      <td>5.5126</td>\n",
       "      <td>1.4396</td>\n",
       "      <td>6.4268</td>\n",
       "    </tr>\n",
       "    <tr>\n",
       "      <th>2</th>\n",
       "      <td>7.4313</td>\n",
       "      <td>6.8382</td>\n",
       "      <td>8.3781</td>\n",
       "      <td>10.2522</td>\n",
       "      <td>12.9234</td>\n",
       "      <td>11.2318</td>\n",
       "      <td>5.7366</td>\n",
       "      <td>5.8691</td>\n",
       "      <td>20.0</td>\n",
       "      <td>20.0</td>\n",
       "      <td>5.2407</td>\n",
       "      <td>2.7451</td>\n",
       "      <td>4.2963</td>\n",
       "      <td>5.5117</td>\n",
       "      <td>1.4386</td>\n",
       "      <td>6.4259</td>\n",
       "    </tr>\n",
       "    <tr>\n",
       "      <th>3</th>\n",
       "      <td>7.4296</td>\n",
       "      <td>6.8366</td>\n",
       "      <td>8.3767</td>\n",
       "      <td>10.2508</td>\n",
       "      <td>12.9222</td>\n",
       "      <td>11.2308</td>\n",
       "      <td>5.7358</td>\n",
       "      <td>5.8685</td>\n",
       "      <td>20.0</td>\n",
       "      <td>20.0</td>\n",
       "      <td>5.2392</td>\n",
       "      <td>2.7435</td>\n",
       "      <td>4.2947</td>\n",
       "      <td>5.5099</td>\n",
       "      <td>1.4368</td>\n",
       "      <td>6.4241</td>\n",
       "    </tr>\n",
       "    <tr>\n",
       "      <th>4</th>\n",
       "      <td>7.4271</td>\n",
       "      <td>6.8342</td>\n",
       "      <td>8.3745</td>\n",
       "      <td>10.2488</td>\n",
       "      <td>12.9204</td>\n",
       "      <td>11.2294</td>\n",
       "      <td>5.7345</td>\n",
       "      <td>5.8676</td>\n",
       "      <td>20.0</td>\n",
       "      <td>20.0</td>\n",
       "      <td>5.2371</td>\n",
       "      <td>2.7412</td>\n",
       "      <td>4.2923</td>\n",
       "      <td>5.5074</td>\n",
       "      <td>1.4343</td>\n",
       "      <td>6.4215</td>\n",
       "    </tr>\n",
       "  </tbody>\n",
       "</table>\n",
       "</div>"
      ],
      "text/plain": [
       "       0       1       2        3        4        5       6       7     8   \\\n",
       "0  7.4323  6.8392  8.3790  10.2530  12.9241  11.2324  5.7372  5.8695  20.0   \n",
       "1  7.4322  6.8391  8.3789  10.2529  12.9240  11.2323  5.7371  5.8694  20.0   \n",
       "2  7.4313  6.8382  8.3781  10.2522  12.9234  11.2318  5.7366  5.8691  20.0   \n",
       "3  7.4296  6.8366  8.3767  10.2508  12.9222  11.2308  5.7358  5.8685  20.0   \n",
       "4  7.4271  6.8342  8.3745  10.2488  12.9204  11.2294  5.7345  5.8676  20.0   \n",
       "\n",
       "     9       10      11      12      13      14      15  \n",
       "0  20.0  5.2415  2.7460  4.2973  5.5127  1.4397  6.4269  \n",
       "1  20.0  5.2415  2.7460  4.2972  5.5126  1.4396  6.4268  \n",
       "2  20.0  5.2407  2.7451  4.2963  5.5117  1.4386  6.4259  \n",
       "3  20.0  5.2392  2.7435  4.2947  5.5099  1.4368  6.4241  \n",
       "4  20.0  5.2371  2.7412  4.2923  5.5074  1.4343  6.4215  "
      ]
     },
     "execution_count": 20,
     "metadata": {},
     "output_type": "execute_result"
    }
   ],
   "source": [
    "df_trainX = df_train.iloc[:,0:16]\n",
    "df_trainX.head()"
   ]
  },
  {
   "cell_type": "code",
   "execution_count": 21,
   "id": "0aef1880-f0d3-4985-b776-c9bd6a11b7eb",
   "metadata": {},
   "outputs": [
    {
     "data": {
      "text/plain": [
       "0   -32.0\n",
       "1   -32.0\n",
       "2   -32.0\n",
       "3   -32.0\n",
       "4   -32.0\n",
       "Name: 16, dtype: float64"
      ]
     },
     "execution_count": 21,
     "metadata": {},
     "output_type": "execute_result"
    }
   ],
   "source": [
    "df_trainY = df_train.iloc[:,-1]\n",
    "df_trainY.head()"
   ]
  },
  {
   "cell_type": "code",
   "execution_count": 22,
   "id": "d99cb3d4-07d1-4d45-8138-9ad9725882f6",
   "metadata": {},
   "outputs": [],
   "source": [
    "trainingSetX = torch.tensor(df_trainX.values, dtype = torch.float32)\n",
    "trainingSetY = torch.tensor(df_trainY.values, dtype = torch.float32)"
   ]
  },
  {
   "cell_type": "code",
   "execution_count": 23,
   "id": "caadc614-8a49-47bb-918d-43964d718f52",
   "metadata": {},
   "outputs": [
    {
     "name": "stdout",
     "output_type": "stream",
     "text": [
      "torch.Size([5000, 16])\n",
      "torch.Size([5000])\n"
     ]
    }
   ],
   "source": [
    "print(trainingSetX.shape)\n",
    "print(trainingSetY.shape)"
   ]
  },
  {
   "cell_type": "code",
   "execution_count": null,
   "id": "a0913747-1374-499b-8f3b-a3b839f53e1d",
   "metadata": {},
   "outputs": [],
   "source": []
  },
  {
   "cell_type": "code",
   "execution_count": null,
   "id": "d46329c9-3c67-4b42-a15b-b11cb3497987",
   "metadata": {},
   "outputs": [],
   "source": []
  },
  {
   "cell_type": "code",
   "execution_count": 43,
   "id": "a5ad810c-8cb3-4057-822b-fdaec3091884",
   "metadata": {},
   "outputs": [],
   "source": [
    "class AutoBrain(nn.Module):\n",
    "    \n",
    "    #def __init__(self, inputs, outputs):\n",
    "    def __init__(self):\n",
    "        \n",
    "        super().__init__()\n",
    "        \n",
    "        # Advanced linear connections\n",
    "        # self.inOut = nn.Linear(inputs, outputs)\n",
    "        # self.inOut = nn.Linear(3,1)\n",
    "        self.inOut = nn.Sequential(\n",
    "            nn.Linear(16, 64),\n",
    "            nn.ReLU(),\n",
    "            nn.Linear(64, 64),\n",
    "            nn.ReLU(),\n",
    "            nn.Linear(64, 64),\n",
    "            nn.SiLU(),\n",
    "            # nn.ReLU(),\n",
    "            nn.Linear(64, 1)\n",
    "        )\n",
    "        # nn.BatchNorm1d(64)\n",
    "            \n",
    "    def forward(self, x):\n",
    "        \n",
    "        # return self.sigmoid(self.inOut(x))\n",
    "        # return self.tanh(self.inOut(x))\n",
    "        return self.inOut(x)\n",
    "        # pass\n",
    "        "
   ]
  },
  {
   "cell_type": "code",
   "execution_count": 46,
   "id": "acc35670-8ca2-4e80-bc45-12c37a97d2b8",
   "metadata": {},
   "outputs": [],
   "source": [
    "\n",
    "\n",
    "epochCount = 0\n",
    "epochLoss = []\n",
    "\n",
    "# Variables for experiment matrix and ml flow\n",
    "sensor = 'Lidar'\n",
    "# hidden_layers defined by output: 64_16_ means lidar = 16 inputs, 2 hidden layers with outputs 64 and 16. Output of last layers is always 1.\n",
    "hidden_layers = '64_64_64_'\n",
    "activation = 'ReLU_ReLU_SiLU'\n",
    "\n",
    "epochs = 400\n",
    "lr = 0.0001\n",
    "batch_size = 64\n",
    "\n",
    "# create DataLoader, then take one batch\n",
    "# from batch_size=16 to 2500 (entire dataset), normally 50-256\n",
    "loader = DataLoader(list(zip(trainingSetX,trainingSetY)), shuffle=False, batch_size=batch_size)\n",
    "for x_batch, y_batch in loader:\n",
    "    # print(x_batch, y_batch)\n",
    "    break\n",
    "\n",
    "model = AutoBrain()\n",
    "\n",
    "loss_fn = nn.MSELoss()\n",
    "# optimizer = optim.SGD(model.parameters(), lr=lr) \n",
    "optimizer = optim.Adagrad(model.parameters(), lr=lr)\n",
    "\n",
    "\n",
    "# Train the model\n",
    "for epoch in range(epochs):\n",
    "        losses = 0\n",
    "\n",
    "        for x_batch, y_batch in loader:\n",
    "            y_hat = model(x_batch)\n",
    "            loss = loss_fn(y_hat, y_batch)\n",
    "            # print(y_hat-y_batch)\n",
    "            optimizer.zero_grad()\n",
    "            loss.backward()\n",
    "            optimizer.step()\n",
    "            # print(loss.item())\n",
    "            epochCount += 1\n",
    "            losses += (loss.item())\n",
    "\n",
    "        epochLoss.append((losses)/len(loader))\n",
    "        # print(losses)\n",
    "        \n",
    "\n",
    "\n",
    "# dit werkt alleen met PyTorch Lightning:\n",
    "# mlflow.pytorch.autolog()\n",
    "\n",
    "# register experiments in mlflow\n",
    "\n",
    "mlflow.set_experiment('AutoBrain')\n",
    "\n",
    "# with mlflow.start_run(run_name=f'Neural net ({sensor}) | layers: {len(hidden_layers)}, epochs: {epochs}, lr: {lr}, batchsize: {batch_size}'):\n",
    "with mlflow.start_run(run_name=f'NN({sensor}) {hidden_layers}, epochs: {epochs}, lr: {lr}, batchsize: {batch_size}'):\n",
    "\n",
    "\n",
    "    mlflow.log_param('sensor', sensor)\n",
    "    mlflow.log_param('data_samples', data_samples)\n",
    "    \n",
    "    mlflow.log_param('hidden_layers', hidden_layers)\n",
    "    mlflow.log_param('activation', activation)\n",
    "\n",
    "    mlflow.log_param('epochs', epochs)\n",
    "    mlflow.log_param('lr', lr)\n",
    "    mlflow.log_param('batch_size', batch_size)\n",
    "\n",
    "    mlflow.log_param('optimizer', optimizer)\n",
    "    mlflow.log_param('loss_fn', loss_fn)\n",
    "    mlflow.log_metric('epochLoss', epochLoss[-1])\n",
    "\n",
    "    # mlflow.log_artifact(f\"../models/{notebook_str}.pickle\")\n",
    "\n",
    "    # mlflow.log_artifact(f\"../loss_graphs/{notebook_str}.png\")\n",
    "\n",
    "    "
   ]
  },
  {
   "cell_type": "code",
   "execution_count": 47,
   "id": "89e60dad-c139-42dd-a4ec-d8c6331fe1e8",
   "metadata": {},
   "outputs": [
    {
     "name": "stdout",
     "output_type": "stream",
     "text": [
      "177.74799308776855\n"
     ]
    }
   ],
   "source": [
    "# mlflow.pytorch.autolog(log_every_n_epoch=1, log_every_n_step=None, log_models=True, disable=False, exclusive=False, disable_for_unsupported_versions=False, silent=False, registered_model_name=None)\n",
    "\n",
    "print(epochLoss[-1])\n"
   ]
  },
  {
   "cell_type": "code",
   "execution_count": 14,
   "id": "98d614b0-85dc-4d31-855f-1c0d5cecc63c",
   "metadata": {},
   "outputs": [
    {
     "name": "stdout",
     "output_type": "stream",
     "text": [
      "Model accuracy: 0.00%\n"
     ]
    }
   ],
   "source": [
    "# evaluate accuracy after training\n",
    "# LET OP: accuracy wordt vooral bij classificatie gebruikt. Dit is regressie. Beter is te kijken naar de loss, gebaseerd op MSE of RMSE.\n",
    "\n",
    "model.eval()\n",
    "y_hat = model(trainingSetX)\n",
    "acc = (y_hat.round() == trainingSetY).float().mean()\n",
    "acc = float(acc)\n",
    "print(\"Model accuracy: %.2f%%\" % (acc*100))"
   ]
  },
  {
   "cell_type": "code",
   "execution_count": 15,
   "id": "a5d389bd-6990-481a-a51e-97e95967aed6",
   "metadata": {},
   "outputs": [
    {
     "data": {
      "text/plain": [
       "tensor(nan, grad_fn=<MseLossBackward0>)"
      ]
     },
     "metadata": {},
     "output_type": "display_data"
    }
   ],
   "source": [
    "display(loss)"
   ]
  },
  {
   "cell_type": "code",
   "execution_count": 16,
   "id": "43692a87-36a8-4e18-96a3-0e1a1e072b8b",
   "metadata": {},
   "outputs": [
    {
     "data": {
      "image/png": "[encoded data removed]",
      "text/plain": [
       "<Figure size 640x480 with 1 Axes>"
      ]
     },
     "metadata": {},
     "output_type": "display_data"
    }
   ],
   "source": [
    "#----------------------------------------\n",
    "\n",
    "fig, ax = plt.subplots()\n",
    "ax.set(xlabel='Epoch', ylabel='Loss', title=\"Training Loss\")\n",
    "\n",
    "# plt.plot([x for x in range(epochs)], losses, 'red')\n",
    "# plt.plot([x in], losses, 'red')\n",
    "plt.plot(epochLoss, 'red')\n",
    "plt.show()\n",
    "\n",
    "#----------------------------------------"
   ]
  },
  {
   "cell_type": "code",
   "execution_count": 23,
   "id": "6bb0276f-f6c6-407d-9b17-9d16835362eb",
   "metadata": {},
   "outputs": [],
   "source": [
    "# Save trained model\n",
    "# data/sonar_model_weights.pth heeft accuracy 57%\n",
    "torch.save(model.inOut, 'data/lidar_model_1.pth')"
   ]
  },
  {
   "cell_type": "code",
   "execution_count": 130,
   "id": "91d3d6fd-5f8c-493c-a559-18937dd6da20",
   "metadata": {},
   "outputs": [],
   "source": [
    "import pickle\n",
    "\n",
    "pickle.dump(model.inOut, open('data/sonar_model.pkl', 'wb'))\n"
   ]
  },
  {
   "cell_type": "code",
   "execution_count": 126,
   "id": "94501c90-3dd0-4f91-b41b-08ab3b41bb41",
   "metadata": {},
   "outputs": [
    {
     "data": {
      "text/plain": [
       "AutoBrain(\n",
       "  (inOut): Sequential(\n",
       "    (0): Linear(in_features=3, out_features=9, bias=True)\n",
       "    (1): ReLU()\n",
       "    (2): Linear(in_features=9, out_features=3, bias=True)\n",
       "    (3): SiLU()\n",
       "    (4): Linear(in_features=3, out_features=1, bias=True)\n",
       "  )\n",
       ")"
      ]
     },
     "execution_count": 126,
     "metadata": {},
     "output_type": "execute_result"
    }
   ],
   "source": [
    "# To load trained model:\n",
    "model = torch.load('data/sonar_model_weights_2.pth')\n",
    "model.eval()"
   ]
  },
  {
   "cell_type": "code",
   "execution_count": 127,
   "id": "04b4661b-949b-46da-bdf4-efa3c4923ae3",
   "metadata": {},
   "outputs": [],
   "source": [
    "pickled_model = pickle.load(open('data/sonar_model.pkl', 'rb'))"
   ]
  },
  {
   "cell_type": "code",
   "execution_count": null,
   "id": "a5d78301-8e33-4f43-b8f7-e19bb7d0f6a9",
   "metadata": {},
   "outputs": [
    {
     "data": {
      "text/plain": [
       "AutoBrain(\n",
       "  (inOut): Sequential(\n",
       "    (0): Linear(in_features=3, out_features=9, bias=True)\n",
       "    (1): ReLU()\n",
       "    (2): Linear(in_features=9, out_features=3, bias=True)\n",
       "    (3): SiLU()\n",
       "    (4): Linear(in_features=3, out_features=1, bias=True)\n",
       "  )\n",
       ")"
      ]
     },
     "execution_count": 128,
     "metadata": {},
     "output_type": "execute_result"
    }
   ],
   "source": [
    "pickled_model.eval()"
   ]
  },
  {
   "cell_type": "code",
   "execution_count": 137,
   "id": "cb70c57d-bf7c-4618-aa2a-d0204801f412",
   "metadata": {},
   "outputs": [
    {
     "data": {
      "text/plain": [
       "tensor([-7.7267], grad_fn=<AddBackward0>)"
      ]
     },
     "execution_count": 137,
     "metadata": {},
     "output_type": "execute_result"
    }
   ],
   "source": [
    "model(torch.tensor([0.9781, 1.1411, 2.2500]))"
   ]
  },
  {
   "cell_type": "code",
   "execution_count": null,
   "id": "1bedfcba-d0c5-4e29-9b8a-3ef4b25814a7",
   "metadata": {},
   "outputs": [],
   "source": []
  }
 ],
 "metadata": {
  "kernelspec": {
   "display_name": "Python 3 (ipykernel)",
   "language": "python",
   "name": "python3"
  },
  "language_info": {
   "codemirror_mode": {
    "name": "ipython",
    "version": 3
   },
   "file_extension": ".py",
   "mimetype": "text/x-python",
   "name": "python",
   "nbconvert_exporter": "python",
   "pygments_lexer": "ipython3",
   "version": "3.10.10"
  }
 },
 "nbformat": 4,
 "nbformat_minor": 5
}
