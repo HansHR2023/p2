{
 "cells": [
  {
   "cell_type": "markdown",
   "id": "14985755-e64b-4635-8edf-d8841d0ee4b6",
   "metadata": {},
   "source": [
    "<h1>PyTorch Neural Net to train Car</h1>\n",
    "\n",
    "This notebook is the start of project 2, using the example of PyTorch tutorials from PyTorch.org. In this notebook we switch to the use of a DataLoader."
   ]
  },
  {
   "cell_type": "code",
   "execution_count": 1,
   "id": "3192d15f-f3c0-41cb-8103-45086b504856",
   "metadata": {},
   "outputs": [],
   "source": [
    "import pandas as pd\n",
    "import torch\n",
    "from torch import nn\n",
    "from torch import optim\n",
    "from torch.utils.data import Dataset, DataLoader\n",
    "\n",
    "import matplotlib.pyplot as plt"
   ]
  },
  {
   "cell_type": "code",
   "execution_count": 2,
   "id": "aeca8a04-ab71-42a4-9673-c81b2bffff91",
   "metadata": {},
   "outputs": [
    {
     "name": "stdout",
     "output_type": "stream",
     "text": [
      "cuda\n"
     ]
    }
   ],
   "source": [
    "device = 'cuda' if torch.cuda.is_available() else 'cpu'\n",
    "print(device)"
   ]
  },
  {
   "cell_type": "code",
   "execution_count": 3,
   "id": "967de451-c3d4-42f4-98ae-3739200121dd",
   "metadata": {},
   "outputs": [],
   "source": [
    "# We move our tensor to the GPU if available\n",
    "\n",
    "# if torch.cuda.is_available():\n",
    "#    tensor = tensor.to(\"cuda\")"
   ]
  },
  {
   "cell_type": "code",
   "execution_count": 4,
   "id": "e99eda3d-cb8e-42f2-b9a3-0dda368d74e4",
   "metadata": {},
   "outputs": [],
   "source": [
    "# import data in pandas\n",
    "df_train = pd.read_csv('../simpylc/sonar_1.samples', delim_whitespace=True,\n",
    "                 header=None, index_col=False)"
   ]
  },
  {
   "cell_type": "code",
   "execution_count": 5,
   "id": "8c811a6c-ce9c-4043-96c3-95036b42925c",
   "metadata": {},
   "outputs": [
    {
     "name": "stdout",
     "output_type": "stream",
     "text": [
      "<class 'pandas.core.frame.DataFrame'>\n",
      "RangeIndex: 2508 entries, 0 to 2507\n",
      "Data columns (total 4 columns):\n",
      " #   Column  Non-Null Count  Dtype  \n",
      "---  ------  --------------  -----  \n",
      " 0   0       2508 non-null   float64\n",
      " 1   1       2508 non-null   float64\n",
      " 2   2       2508 non-null   float64\n",
      " 3   3       2508 non-null   float64\n",
      "dtypes: float64(4)\n",
      "memory usage: 78.5 KB\n"
     ]
    }
   ],
   "source": [
    "# check data type -> float, not object\n",
    "df_train.info()"
   ]
  },
  {
   "cell_type": "code",
   "execution_count": 6,
   "id": "871ec6ba-8c3c-43bf-b37e-bae079f5951f",
   "metadata": {},
   "outputs": [
    {
     "data": {
      "text/html": [
       "<div>\n",
       "<style scoped>\n",
       "    .dataframe tbody tr th:only-of-type {\n",
       "        vertical-align: middle;\n",
       "    }\n",
       "\n",
       "    .dataframe tbody tr th {\n",
       "        vertical-align: top;\n",
       "    }\n",
       "\n",
       "    .dataframe thead th {\n",
       "        text-align: right;\n",
       "    }\n",
       "</style>\n",
       "<table border=\"1\" class=\"dataframe\">\n",
       "  <thead>\n",
       "    <tr style=\"text-align: right;\">\n",
       "      <th></th>\n",
       "      <th>0</th>\n",
       "      <th>1</th>\n",
       "      <th>2</th>\n",
       "      <th>3</th>\n",
       "    </tr>\n",
       "  </thead>\n",
       "  <tbody>\n",
       "    <tr>\n",
       "      <th>0</th>\n",
       "      <td>1.4079</td>\n",
       "      <td>1.2328</td>\n",
       "      <td>1.7440</td>\n",
       "      <td>-22.0</td>\n",
       "    </tr>\n",
       "    <tr>\n",
       "      <th>1</th>\n",
       "      <td>1.4082</td>\n",
       "      <td>1.2330</td>\n",
       "      <td>1.7441</td>\n",
       "      <td>-22.0</td>\n",
       "    </tr>\n",
       "    <tr>\n",
       "      <th>2</th>\n",
       "      <td>1.4062</td>\n",
       "      <td>1.2314</td>\n",
       "      <td>1.7429</td>\n",
       "      <td>-22.0</td>\n",
       "    </tr>\n",
       "    <tr>\n",
       "      <th>3</th>\n",
       "      <td>1.4062</td>\n",
       "      <td>1.2314</td>\n",
       "      <td>1.7429</td>\n",
       "      <td>-22.0</td>\n",
       "    </tr>\n",
       "    <tr>\n",
       "      <th>4</th>\n",
       "      <td>1.4011</td>\n",
       "      <td>1.2274</td>\n",
       "      <td>1.7392</td>\n",
       "      <td>-22.0</td>\n",
       "    </tr>\n",
       "  </tbody>\n",
       "</table>\n",
       "</div>"
      ],
      "text/plain": [
       "        0       1       2     3\n",
       "0  1.4079  1.2328  1.7440 -22.0\n",
       "1  1.4082  1.2330  1.7441 -22.0\n",
       "2  1.4062  1.2314  1.7429 -22.0\n",
       "3  1.4062  1.2314  1.7429 -22.0\n",
       "4  1.4011  1.2274  1.7392 -22.0"
      ]
     },
     "execution_count": 6,
     "metadata": {},
     "output_type": "execute_result"
    }
   ],
   "source": [
    "# check seperator -> 4 columns present?\n",
    "df_train.head()"
   ]
  },
  {
   "cell_type": "code",
   "execution_count": 7,
   "id": "0a855b95-7294-45df-8f98-e96c7ce05c7d",
   "metadata": {},
   "outputs": [
    {
     "data": {
      "text/html": [
       "<div>\n",
       "<style scoped>\n",
       "    .dataframe tbody tr th:only-of-type {\n",
       "        vertical-align: middle;\n",
       "    }\n",
       "\n",
       "    .dataframe tbody tr th {\n",
       "        vertical-align: top;\n",
       "    }\n",
       "\n",
       "    .dataframe thead th {\n",
       "        text-align: right;\n",
       "    }\n",
       "</style>\n",
       "<table border=\"1\" class=\"dataframe\">\n",
       "  <thead>\n",
       "    <tr style=\"text-align: right;\">\n",
       "      <th></th>\n",
       "      <th>0</th>\n",
       "      <th>1</th>\n",
       "      <th>2</th>\n",
       "    </tr>\n",
       "  </thead>\n",
       "  <tbody>\n",
       "    <tr>\n",
       "      <th>0</th>\n",
       "      <td>1.4079</td>\n",
       "      <td>1.2328</td>\n",
       "      <td>1.7440</td>\n",
       "    </tr>\n",
       "    <tr>\n",
       "      <th>1</th>\n",
       "      <td>1.4082</td>\n",
       "      <td>1.2330</td>\n",
       "      <td>1.7441</td>\n",
       "    </tr>\n",
       "    <tr>\n",
       "      <th>2</th>\n",
       "      <td>1.4062</td>\n",
       "      <td>1.2314</td>\n",
       "      <td>1.7429</td>\n",
       "    </tr>\n",
       "    <tr>\n",
       "      <th>3</th>\n",
       "      <td>1.4062</td>\n",
       "      <td>1.2314</td>\n",
       "      <td>1.7429</td>\n",
       "    </tr>\n",
       "    <tr>\n",
       "      <th>4</th>\n",
       "      <td>1.4011</td>\n",
       "      <td>1.2274</td>\n",
       "      <td>1.7392</td>\n",
       "    </tr>\n",
       "  </tbody>\n",
       "</table>\n",
       "</div>"
      ],
      "text/plain": [
       "        0       1       2\n",
       "0  1.4079  1.2328  1.7440\n",
       "1  1.4082  1.2330  1.7441\n",
       "2  1.4062  1.2314  1.7429\n",
       "3  1.4062  1.2314  1.7429\n",
       "4  1.4011  1.2274  1.7392"
      ]
     },
     "execution_count": 7,
     "metadata": {},
     "output_type": "execute_result"
    }
   ],
   "source": [
    "df_trainX = df_train.iloc[:,0:3]\n",
    "df_trainX.head()"
   ]
  },
  {
   "cell_type": "code",
   "execution_count": 8,
   "id": "0aef1880-f0d3-4985-b776-c9bd6a11b7eb",
   "metadata": {},
   "outputs": [
    {
     "data": {
      "text/plain": [
       "0   -22.0\n",
       "1   -22.0\n",
       "2   -22.0\n",
       "3   -22.0\n",
       "4   -22.0\n",
       "Name: 3, dtype: float64"
      ]
     },
     "execution_count": 8,
     "metadata": {},
     "output_type": "execute_result"
    }
   ],
   "source": [
    "df_trainY = df_train.iloc[:,3]\n",
    "df_trainY.head()"
   ]
  },
  {
   "cell_type": "code",
   "execution_count": 9,
   "id": "d99cb3d4-07d1-4d45-8138-9ad9725882f6",
   "metadata": {},
   "outputs": [],
   "source": [
    "trainingSetX = torch.tensor(df_trainX.values, dtype = torch.float32)\n",
    "trainingSetY = torch.tensor(df_trainY.values, dtype = torch.float32)"
   ]
  },
  {
   "cell_type": "code",
   "execution_count": 10,
   "id": "caadc614-8a49-47bb-918d-43964d718f52",
   "metadata": {},
   "outputs": [
    {
     "name": "stdout",
     "output_type": "stream",
     "text": [
      "torch.Size([2508, 3])\n",
      "torch.Size([2508])\n"
     ]
    }
   ],
   "source": [
    "print(trainingSetX.shape)\n",
    "print(trainingSetY.shape)"
   ]
  },
  {
   "cell_type": "code",
   "execution_count": 74,
   "id": "a0913747-1374-499b-8f3b-a3b839f53e1d",
   "metadata": {},
   "outputs": [],
   "source": [
    "# create DataLoader, then take one batch\n",
    "# from batch_size=16 to 2500 (entire dataset)\n",
    "loader = DataLoader(list(zip(trainingSetX,trainingSetY)), shuffle=True, batch_size=1)\n",
    "for x_batch, y_batch in loader:\n",
    "    # print(x_batch, y_batch)\n",
    "    break"
   ]
  },
  {
   "cell_type": "code",
   "execution_count": 67,
   "id": "d46329c9-3c67-4b42-a15b-b11cb3497987",
   "metadata": {},
   "outputs": [],
   "source": [
    "# create model\n",
    "\n",
    "# model = nn.Sequential(\n",
    "#     nn.Linear(3, 3),\n",
    "#     nn.Tanh(),\n",
    "#     nn.Linear(3, 3),\n",
    "#     nn.Tanh(),\n",
    "#     nn.Linear(3, 1),\n",
    "#     nn.Tanh())\n",
    "\n",
    "# model = nn.Sequential(\n",
    "#     nn.Linear(3, 3),\n",
    "#     nn.Linear(3, 1),\n",
    "#     )\n",
    "\n",
    "# model = nn.Linear(3,1)"
   ]
  },
  {
   "cell_type": "code",
   "execution_count": 68,
   "id": "a5ad810c-8cb3-4057-822b-fdaec3091884",
   "metadata": {},
   "outputs": [],
   "source": [
    "class AutoBrain(nn.Module):\n",
    "    \n",
    "    def __init__(self, inputs, outputs):\n",
    "        \n",
    "        super().__init__()\n",
    "        \n",
    "        # Simple linear connections\n",
    "        self.inOut = nn.Linear(inputs, outputs)\n",
    "        \n",
    "        # Don't use Sigmoid as this outputs y = (0,1)\n",
    "        # self.sigmoid = nn.Sigmoid()\n",
    "        # Use tanh as this outputs y = (-1,1)\n",
    "        # self.tanh = nn.Tanh()\n",
    "        # or even better: don't use activation, as this is a regression\n",
    "\n",
    "    def forward(self, x):\n",
    "        \n",
    "        # return self.sigmoid(self.inOut(x))\n",
    "        # return self.tanh(self.inOut(x))\n",
    "        return self.inOut(x)\n",
    "        # pass\n",
    "        "
   ]
  },
  {
   "cell_type": "code",
   "execution_count": 69,
   "id": "3908b91d-b3bc-4eae-a46c-2aed7d229fc6",
   "metadata": {},
   "outputs": [],
   "source": [
    "# Train the model\n",
    "# epochs = 200\n",
    "# loss_fn = nn.MSELoss()\n",
    "# optimizer = optim.SGD(model.parameters(), lr=0.1)\n",
    "# model.train()\n",
    "# for epoch in range(epochs):\n",
    "#     for x_batch, y_batch in loader:\n",
    "#         y_hat = model(x_batch)\n",
    "#         loss = loss_fn(y_hat, y_batch)\n",
    "#         # print(y_hat-y_batch)\n",
    "#         optimizer.zero_grad()\n",
    "#         loss.backward()\n",
    "#         optimizer.step()"
   ]
  },
  {
   "cell_type": "code",
   "execution_count": 109,
   "id": "acc35670-8ca2-4e80-bc45-12c37a97d2b8",
   "metadata": {},
   "outputs": [],
   "source": [
    "# Train the model\n",
    "\n",
    "model = AutoBrain(3,1)\n",
    "\n",
    "epochCount = 0\n",
    "losses = []\n",
    "\n",
    "epochs = 10\n",
    "loss_fn = nn.MSELoss()\n",
    "optimizer = optim.SGD(model.parameters(), lr=1)\n",
    "model.train()\n",
    "for epoch in range(epochs):\n",
    "    for x_batch, y_batch in loader:\n",
    "        y_hat = model(x_batch)\n",
    "        loss = loss_fn(y_hat, y_batch)\n",
    "        # print(y_hat-y_batch)\n",
    "        optimizer.zero_grad()\n",
    "        loss.backward()\n",
    "        optimizer.step()\n",
    "        # print(loss.item())\n",
    "        epochCount += 1\n",
    "        losses.append(loss.item())"
   ]
  },
  {
   "cell_type": "code",
   "execution_count": 110,
   "id": "98d614b0-85dc-4d31-855f-1c0d5cecc63c",
   "metadata": {},
   "outputs": [
    {
     "name": "stdout",
     "output_type": "stream",
     "text": [
      "Model accuracy: 0.00%\n"
     ]
    }
   ],
   "source": [
    "# evaluate accuracy after training\n",
    "model.eval()\n",
    "y_hat = model(trainingSetX)\n",
    "acc = (y_hat.round() == trainingSetY).float().mean()\n",
    "acc = float(acc)\n",
    "print(\"Model accuracy: %.2f%%\" % (acc*100))"
   ]
  },
  {
   "cell_type": "code",
   "execution_count": 111,
   "id": "a5d389bd-6990-481a-a51e-97e95967aed6",
   "metadata": {},
   "outputs": [
    {
     "data": {
      "text/plain": [
       "tensor(nan, grad_fn=<MseLossBackward0>)"
      ]
     },
     "metadata": {},
     "output_type": "display_data"
    }
   ],
   "source": [
    "display(loss)"
   ]
  },
  {
   "cell_type": "code",
   "execution_count": 112,
   "id": "43692a87-36a8-4e18-96a3-0e1a1e072b8b",
   "metadata": {},
   "outputs": [
    {
     "data": {
      "image/png": "[encoded data removed]",
      "text/plain": [
       "<Figure size 640x480 with 1 Axes>"
      ]
     },
     "metadata": {},
     "output_type": "display_data"
    }
   ],
   "source": [
    "#----------------------------------------\n",
    "\n",
    "fig, ax = plt.subplots()\n",
    "ax.set(xlabel='Epoch', ylabel='Cost', title=\"Training Cost\")\n",
    "\n",
    "plt.plot([x for x in range(epochCount)], losses, 'red')\n",
    "# plt.plot([x in], losses, 'red')\n",
    "plt.show()\n",
    "\n",
    "#----------------------------------------"
   ]
  },
  {
   "cell_type": "code",
   "execution_count": 113,
   "id": "6bb0276f-f6c6-407d-9b17-9d16835362eb",
   "metadata": {},
   "outputs": [],
   "source": [
    "# Save trained model\n",
    "# data/sonar_model_weights.pth heeft accuracy 57%\n",
    "torch.save(model, 'data/sonar_model_weights_2.pth')"
   ]
  },
  {
   "cell_type": "code",
   "execution_count": 117,
   "id": "91d3d6fd-5f8c-493c-a559-18937dd6da20",
   "metadata": {},
   "outputs": [],
   "source": [
    "import pickle\n",
    "\n",
    "pickle.dump(model, open('data/sonar_model.pkl', 'wb'))\n"
   ]
  },
  {
   "cell_type": "code",
   "execution_count": 116,
   "id": "94501c90-3dd0-4f91-b41b-08ab3b41bb41",
   "metadata": {},
   "outputs": [
    {
     "data": {
      "text/plain": [
       "AutoBrain(\n",
       "  (inOut): Linear(in_features=3, out_features=1, bias=True)\n",
       ")"
      ]
     },
     "execution_count": 116,
     "metadata": {},
     "output_type": "execute_result"
    }
   ],
   "source": [
    "# To load trained model:\n",
    "model = torch.load('data/sonar_model_weights_2.pth')\n",
    "model.eval()"
   ]
  },
  {
   "cell_type": "code",
   "execution_count": 118,
   "id": "04b4661b-949b-46da-bdf4-efa3c4923ae3",
   "metadata": {},
   "outputs": [],
   "source": [
    "pickled_model = pickle.load(open('data/sonar_model.pkl', 'rb'))"
   ]
  },
  {
   "cell_type": "code",
   "execution_count": 119,
   "id": "a5d78301-8e33-4f43-b8f7-e19bb7d0f6a9",
   "metadata": {},
   "outputs": [
    {
     "data": {
      "text/plain": [
       "AutoBrain(\n",
       "  (inOut): Linear(in_features=3, out_features=1, bias=True)\n",
       ")"
      ]
     },
     "execution_count": 119,
     "metadata": {},
     "output_type": "execute_result"
    }
   ],
   "source": [
    "pickled_model.eval()"
   ]
  },
  {
   "cell_type": "code",
   "execution_count": null,
   "id": "cb70c57d-bf7c-4618-aa2a-d0204801f412",
   "metadata": {},
   "outputs": [],
   "source": []
  }
 ],
 "metadata": {
  "kernelspec": {
   "display_name": "Python 3 (ipykernel)",
   "language": "python",
   "name": "python3"
  },
  "language_info": {
   "codemirror_mode": {
    "name": "ipython",
    "version": 3
   },
   "file_extension": ".py",
   "mimetype": "text/x-python",
   "name": "python",
   "nbconvert_exporter": "python",
   "pygments_lexer": "ipython3",
   "version": "3.10.10"
  }
 },
 "nbformat": 4,
 "nbformat_minor": 5
}
